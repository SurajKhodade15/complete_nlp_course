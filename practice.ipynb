{
 "cells": [
  {
   "cell_type": "code",
   "execution_count": 1,
   "id": "cc1c628f",
   "metadata": {},
   "outputs": [],
   "source": [
    "import spacy"
   ]
  },
  {
   "cell_type": "code",
   "execution_count": 2,
   "id": "ae0423a6",
   "metadata": {},
   "outputs": [],
   "source": [
    "nlp = spacy.load('en_core_web_sm')"
   ]
  },
  {
   "cell_type": "code",
   "execution_count": 4,
   "id": "54b9b6a7",
   "metadata": {},
   "outputs": [
    {
     "data": {
      "text/plain": [
       "<spacy.lang.en.English at 0x24171e07110>"
      ]
     },
     "execution_count": 4,
     "metadata": {},
     "output_type": "execute_result"
    }
   ],
   "source": [
    "nlp"
   ]
  },
  {
   "cell_type": "code",
   "execution_count": 27,
   "id": "dbb9729f",
   "metadata": {},
   "outputs": [
    {
     "name": "stdout",
     "output_type": "stream",
     "text": [
      "I 95 PRON nsubj I True\n",
      "'m 87 AUX ROOT be True\n",
      "Suraj 96 PROPN attr Suraj False\n",
      "and 89 CCONJ cc and True\n",
      "Learning 96 PROPN conj Learning False\n",
      "NLP 96 PROPN dobj NLP False\n",
      "and 89 CCONJ cc and True\n",
      "having 100 VERB conj have False\n",
      "6 93 NUM nummod 6 False\n",
      "years 92 NOUN dobj year False\n",
      "of 85 ADP prep of True\n",
      "experince 92 NOUN pobj experince False\n",
      "in 85 ADP prep in True\n",
      "IT 96 PROPN pobj IT True\n",
      ". 97 PUNCT punct . False\n",
      "I 95 PRON nsubj I True\n",
      "live 100 VERB ROOT live False\n",
      "in 85 ADP prep in True\n",
      "India 96 PROPN pobj India False\n",
      ". 97 PUNCT punct . False\n",
      "I 95 PRON nsubj I True\n",
      "am 87 AUX aux be True\n",
      "working 100 VERB ROOT work False\n",
      "in 85 ADP prep in True\n",
      "Globant 96 PROPN pobj Globant False\n"
     ]
    }
   ],
   "source": [
    "doc = nlp(u\"I'm Suraj and Learning NLP and having 6 years of experince in IT. I live in India. I am working in Globant\")\n",
    "\n",
    "for token in doc:\n",
    "    # print(token)\n",
    "    print(token.text, token.pos, token.pos_, token.dep_, token.lemma_, token.is_stop)"
   ]
  },
  {
   "cell_type": "code",
   "execution_count": 22,
   "id": "4171f3ef",
   "metadata": {},
   "outputs": [
    {
     "data": {
      "text/plain": [
       "[('tok2vec', <spacy.pipeline.tok2vec.Tok2Vec at 0x2417053ac90>),\n",
       " ('tagger', <spacy.pipeline.tagger.Tagger at 0x2416fe9f5f0>),\n",
       " ('parser', <spacy.pipeline.dep_parser.DependencyParser at 0x24171f8b7d0>),\n",
       " ('attribute_ruler',\n",
       "  <spacy.pipeline.attributeruler.AttributeRuler at 0x2417214d750>),\n",
       " ('lemmatizer', <spacy.lang.en.lemmatizer.EnglishLemmatizer at 0x2417214b390>),\n",
       " ('ner', <spacy.pipeline.ner.EntityRecognizer at 0x24171f8ba70>)]"
      ]
     },
     "execution_count": 22,
     "metadata": {},
     "output_type": "execute_result"
    }
   ],
   "source": [
    "nlp.pipeline"
   ]
  },
  {
   "cell_type": "code",
   "execution_count": 23,
   "id": "2bfd9205",
   "metadata": {},
   "outputs": [
    {
     "data": {
      "text/plain": [
       "['tok2vec', 'tagger', 'parser', 'attribute_ruler', 'lemmatizer', 'ner']"
      ]
     },
     "execution_count": 23,
     "metadata": {},
     "output_type": "execute_result"
    }
   ],
   "source": [
    "nlp.pipe_names"
   ]
  },
  {
   "cell_type": "code",
   "execution_count": 33,
   "id": "cdcab162",
   "metadata": {},
   "outputs": [],
   "source": [
    "doc3 = nlp(u'Although commmonly attributed to John Lennon from his song \"Beautiful Boy\".\\\n",
    "the phrase \"Life is what happens to us while we are making other plans\" was written by \\\n",
    "cartoonist Allen Saunders and published in Reader\\'s Digest in 1957, when Lennon was 17.')"
   ]
  },
  {
   "cell_type": "code",
   "execution_count": 29,
   "id": "248fd9d2",
   "metadata": {},
   "outputs": [
    {
     "data": {
      "text/plain": [
       "spacy.tokens.doc.Doc"
      ]
     },
     "execution_count": 29,
     "metadata": {},
     "output_type": "execute_result"
    }
   ],
   "source": [
    "type(doc3)"
   ]
  },
  {
   "cell_type": "code",
   "execution_count": 30,
   "id": "618bf428",
   "metadata": {},
   "outputs": [
    {
     "name": "stdout",
     "output_type": "stream",
     "text": [
      "\"Life is what happens to us while we are making other plans\"\n"
     ]
    },
    {
     "data": {
      "text/plain": [
       "spacy.tokens.span.Span"
      ]
     },
     "execution_count": 30,
     "metadata": {},
     "output_type": "execute_result"
    }
   ],
   "source": [
    "life_quote = doc3[16:30]\n",
    "print(life_quote)\n",
    "type(life_quote)"
   ]
  },
  {
   "cell_type": "code",
   "execution_count": 35,
   "id": "14381cad",
   "metadata": {},
   "outputs": [
    {
     "name": "stdout",
     "output_type": "stream",
     "text": [
      "I'm Suraj and Learning NLP and having 6 years of experince in IT.\n",
      "I live in India.\n",
      "I am working in Globant\n"
     ]
    }
   ],
   "source": [
    "\n",
    "for sent in doc.sents:\n",
    "    print(sent)"
   ]
  },
  {
   "cell_type": "code",
   "execution_count": 36,
   "id": "9e9762c4",
   "metadata": {},
   "outputs": [
    {
     "data": {
      "text/plain": [
       "25"
      ]
     },
     "execution_count": 36,
     "metadata": {},
     "output_type": "execute_result"
    }
   ],
   "source": [
    "len(doc)"
   ]
  },
  {
   "cell_type": "code",
   "execution_count": null,
   "id": "8aadf562",
   "metadata": {},
   "outputs": [],
   "source": []
  }
 ],
 "metadata": {
  "kernelspec": {
   "display_name": "Python 3",
   "language": "python",
   "name": "python3"
  },
  "language_info": {
   "codemirror_mode": {
    "name": "ipython",
    "version": 3
   },
   "file_extension": ".py",
   "mimetype": "text/x-python",
   "name": "python",
   "nbconvert_exporter": "python",
   "pygments_lexer": "ipython3",
   "version": "3.11.0"
  }
 },
 "nbformat": 4,
 "nbformat_minor": 5
}
